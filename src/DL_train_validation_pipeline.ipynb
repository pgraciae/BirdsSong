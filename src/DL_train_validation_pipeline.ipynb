{
 "cells": [
  {
   "cell_type": "code",
   "execution_count": 1,
   "metadata": {},
   "outputs": [
    {
     "name": "stderr",
     "output_type": "stream",
     "text": [
      "c:\\Users\\polgracia\\Anaconda3\\envs\\deeplearning\\lib\\site-packages\\tqdm\\auto.py:22: TqdmWarning: IProgress not found. Please update jupyter and ipywidgets. See https://ipywidgets.readthedocs.io/en/stable/user_install.html\n",
      "  from .autonotebook import tqdm as notebook_tqdm\n"
     ]
    }
   ],
   "source": [
    "import timm\n",
    "import wandb\n",
    "import pytorch_lightning as pl\n",
    "from pytorch_lightning.callbacks import ModelCheckpoint\n",
    "\n",
    "import torch\n",
    "import torch.nn as nn\n",
    "from torchvision import transforms\n",
    "from torch import from_numpy\n",
    "\n",
    "from pytorch_lightning.loggers import WandbLogger\n",
    "\n",
    "import matplotlib.pyplot as plt\n",
    "import os\n",
    "\n",
    "from data_models.datamodule import BirdDataModule\n",
    "from models.timm import TimmModel\n",
    "from callbacks.callbacks import ImagePredictionLogger"
   ]
  },
  {
   "attachments": {},
   "cell_type": "markdown",
   "metadata": {},
   "source": [
    "### Load & transform data"
   ]
  },
  {
   "cell_type": "code",
   "execution_count": 2,
   "metadata": {},
   "outputs": [],
   "source": [
    "data_transforms = transforms.Compose([\n",
    "                                    #se transforma a tensor automaticamente\n",
    "                                    # from_numpy,\n",
    "                                    # transforms.Resize([224,224]),\n",
    "                                    transforms.Normalize([-28.35204512488038], [9.804596690228543]) #values obtained from training dataset\n",
    "                                   ])\n",
    "                                   \n",
    "target_transforms = transforms.Compose([\n",
    "                                    # transforms.ToTensor,\n",
    "                                   ])"
   ]
  },
  {
   "cell_type": "code",
   "execution_count": 3,
   "metadata": {},
   "outputs": [],
   "source": [
    "dm = BirdDataModule(\n",
    "    root_data_dir='../data/',\n",
    "    batch_size=32,\n",
    "    num_workers=8,\n",
    "    transforms={\n",
    "            'transform': data_transforms,\n",
    "            'target_transform': target_transforms\n",
    "        },\n",
    "    seed = 5,\n",
    "    test_size = 0.2\n",
    "    )"
   ]
  },
  {
   "cell_type": "code",
   "execution_count": 4,
   "metadata": {},
   "outputs": [],
   "source": [
    "dm.setup()"
   ]
  },
  {
   "cell_type": "code",
   "execution_count": 5,
   "metadata": {},
   "outputs": [
    {
     "data": {
      "text/plain": [
       "array(['Acrocephalus arundinaceus', 'Acrocephalus melanopogon',\n",
       "       'Acrocephalus scirpaceus', 'Alcedo atthis', 'Anas platyrhynchos',\n",
       "       'Anas strepera', 'Ardea purpurea', 'Botaurus stellaris',\n",
       "       'Charadrius alexandrinus', 'Ciconia ciconia', 'Circus aeruginosus',\n",
       "       'Coracias garrulus', 'Dendrocopos minor', 'Fulica atra',\n",
       "       'Gallinula chloropus', 'Himantopus himantopus',\n",
       "       'Ixobrychus minutus', 'Motacilla flava', 'Porphyrio porphyrio',\n",
       "       'Tachybaptus ruficollis'], dtype=object)"
      ]
     },
     "execution_count": 5,
     "metadata": {},
     "output_type": "execute_result"
    }
   ],
   "source": [
    "dm.coder.classes_"
   ]
  },
  {
   "cell_type": "code",
   "execution_count": 6,
   "metadata": {},
   "outputs": [],
   "source": [
    "dataset = dm.dataset('../data/')#, transform = from_numpy)"
   ]
  },
  {
   "attachments": {},
   "cell_type": "markdown",
   "metadata": {},
   "source": [
    "#### Model definition"
   ]
  },
  {
   "cell_type": "code",
   "execution_count": 7,
   "metadata": {},
   "outputs": [],
   "source": [
    "# timm.list_models(pretrained = True)"
   ]
  },
  {
   "cell_type": "code",
   "execution_count": 8,
   "metadata": {},
   "outputs": [
    {
     "name": "stdout",
     "output_type": "stream",
     "text": [
      "Linear(in_features=1024, out_features=20, bias=True)\n"
     ]
    }
   ],
   "source": [
    "num_classes = 20\n",
    "\n",
    "timm_model = timm.create_model('mobilenetv3_small_100', pretrained=True, num_classes=num_classes, in_chans = 1) \n",
    "# timm_model = timm.create_model('densenet201', pretrained=True, num_classes=num_classes) \n",
    "\n",
    "print(timm_model.get_classifier())"
   ]
  },
  {
   "cell_type": "code",
   "execution_count": 9,
   "metadata": {},
   "outputs": [],
   "source": [
    "model = TimmModel(timm_model, num_classes, learning_rate=1e-3)"
   ]
  },
  {
   "attachments": {},
   "cell_type": "markdown",
   "metadata": {},
   "source": [
    "#### Wandb logger"
   ]
  },
  {
   "cell_type": "code",
   "execution_count": 10,
   "metadata": {},
   "outputs": [],
   "source": [
    "# Samples required by the custom ImagePredictionLogger callback to log image predictions.\n",
    "val_samples = next(iter(dm.val_dataloader()))"
   ]
  },
  {
   "cell_type": "code",
   "execution_count": 11,
   "metadata": {},
   "outputs": [
    {
     "name": "stderr",
     "output_type": "stream",
     "text": [
      "Failed to detect the name of this notebook, you can set it manually with the WANDB_NOTEBOOK_NAME environment variable to enable code saving.\n",
      "\u001b[34m\u001b[1mwandb\u001b[0m: Currently logged in as: \u001b[33mpgraciae\u001b[0m. Use \u001b[1m`wandb login --relogin`\u001b[0m to force relogin\n"
     ]
    },
    {
     "data": {
      "text/html": [
       "wandb version 0.13.11 is available!  To upgrade, please run:\n",
       " $ pip install wandb --upgrade"
      ],
      "text/plain": [
       "<IPython.core.display.HTML object>"
      ]
     },
     "metadata": {},
     "output_type": "display_data"
    },
    {
     "data": {
      "text/html": [
       "Tracking run with wandb version 0.13.9"
      ],
      "text/plain": [
       "<IPython.core.display.HTML object>"
      ]
     },
     "metadata": {},
     "output_type": "display_data"
    },
    {
     "data": {
      "text/html": [
       "Run data is saved locally in <code>.\\wandb\\run-20230309_184727-ecxoe8ca</code>"
      ],
      "text/plain": [
       "<IPython.core.display.HTML object>"
      ]
     },
     "metadata": {},
     "output_type": "display_data"
    },
    {
     "data": {
      "text/html": [
       "Syncing run <strong><a href=\"https://wandb.ai/pgraciae/birds/runs/ecxoe8ca\" target=\"_blank\">genial-hill-18</a></strong> to <a href=\"https://wandb.ai/pgraciae/birds\" target=\"_blank\">Weights & Biases</a> (<a href=\"https://wandb.me/run\" target=\"_blank\">docs</a>)<br/>"
      ],
      "text/plain": [
       "<IPython.core.display.HTML object>"
      ]
     },
     "metadata": {},
     "output_type": "display_data"
    },
    {
     "data": {
      "text/html": [
       " View project at <a href=\"https://wandb.ai/pgraciae/birds\" target=\"_blank\">https://wandb.ai/pgraciae/birds</a>"
      ],
      "text/plain": [
       "<IPython.core.display.HTML object>"
      ]
     },
     "metadata": {},
     "output_type": "display_data"
    },
    {
     "data": {
      "text/html": [
       " View run at <a href=\"https://wandb.ai/pgraciae/birds/runs/ecxoe8ca\" target=\"_blank\">https://wandb.ai/pgraciae/birds/runs/ecxoe8ca</a>"
      ],
      "text/plain": [
       "<IPython.core.display.HTML object>"
      ]
     },
     "metadata": {},
     "output_type": "display_data"
    }
   ],
   "source": [
    "wandb_logger = WandbLogger(project=\"birds\")\n",
    "\n",
    "# Initialize callbacks\n",
    "callbacks = [\n",
    "    #EarlyStopping(monitor=\"val_loss\", min_delta=0.00, patience=3, verbose=False, mode=\"max\"),\n",
    "    #LearningRateMonitor(),\n",
    "    ImagePredictionLogger(val_samples),\n",
    "    ModelCheckpoint(dirpath=\"./checkpoints\", monitor=\"val_loss\", filename=\"bird-{epoch:02d}-{val_loss:.2f}\")\n",
    "]"
   ]
  },
  {
   "attachments": {},
   "cell_type": "markdown",
   "metadata": {},
   "source": [
    "#### Training pipeline"
   ]
  },
  {
   "cell_type": "code",
   "execution_count": 12,
   "metadata": {},
   "outputs": [
    {
     "name": "stderr",
     "output_type": "stream",
     "text": [
      "GPU available: False, used: False\n",
      "TPU available: False, using: 0 TPU cores\n",
      "IPU available: False, using: 0 IPUs\n",
      "HPU available: False, using: 0 HPUs\n"
     ]
    }
   ],
   "source": [
    "trainer = pl.Trainer(max_epochs=30,\n",
    "                        logger=wandb_logger,\n",
    "                        callbacks=callbacks,\n",
    "                        enable_progress_bar=True)"
   ]
  },
  {
   "cell_type": "code",
   "execution_count": 13,
   "metadata": {},
   "outputs": [
    {
     "name": "stderr",
     "output_type": "stream",
     "text": [
      "c:\\Users\\polgracia\\Anaconda3\\envs\\deeplearning\\lib\\site-packages\\pytorch_lightning\\callbacks\\model_checkpoint.py:612: UserWarning: Checkpoint directory C:\\Users\\polgracia\\OneDrive - KPMG\\Desktop\\MBD\\data mining\\practica\\src\\checkpoints exists and is not empty.\n",
      "  rank_zero_warn(f\"Checkpoint directory {dirpath} exists and is not empty.\")\n",
      "\n",
      "  | Name     | Type               | Params\n",
      "------------------------------------------------\n",
      "0 | model    | MobileNetV3        | 1.5 M \n",
      "1 | accuracy | MulticlassAccuracy | 0     \n",
      "2 | f_score  | MulticlassF1Score  | 0     \n",
      "------------------------------------------------\n",
      "1.5 M     Trainable params\n",
      "0         Non-trainable params\n",
      "1.5 M     Total params\n",
      "6.152     Total estimated model params size (MB)\n"
     ]
    },
    {
     "name": "stdout",
     "output_type": "stream",
     "text": [
      "Adjusting learning rate of group 0 to 1.0000e-03.\n",
      "Epoch 0:  80%|███████▉  | 348/436 [07:11<01:49,  1.24s/it, loss=0.384, v_num=e8ca]Adjusting learning rate of group 0 to 1.0000e-03.\n",
      "Epoch 1:  80%|███████▉  | 348/436 [07:35<01:55,  1.31s/it, loss=0.338, v_num=e8ca]Adjusting learning rate of group 0 to 1.0000e-03.\n",
      "Epoch 2:  80%|███████▉  | 348/436 [07:54<02:00,  1.36s/it, loss=0.232, v_num=e8ca]Adjusting learning rate of group 0 to 1.0000e-03.\n",
      "Epoch 3:  80%|███████▉  | 348/436 [08:01<02:01,  1.38s/it, loss=0.265, v_num=e8ca]Adjusting learning rate of group 0 to 1.0000e-03.\n",
      "Epoch 4:  80%|███████▉  | 348/436 [10:40<02:41,  1.84s/it, loss=0.17, v_num=e8ca]  Adjusting learning rate of group 0 to 1.0000e-03.\n",
      "Epoch 5:  80%|███████▉  | 348/436 [10:56<02:46,  1.89s/it, loss=0.144, v_num=e8ca] Adjusting learning rate of group 0 to 1.0000e-03.\n",
      "Epoch 6:  80%|███████▉  | 348/436 [11:51<02:59,  2.04s/it, loss=0.18, v_num=e8ca]  Adjusting learning rate of group 0 to 1.0000e-03.\n",
      "Epoch 7:  80%|███████▉  | 348/436 [12:02<03:02,  2.08s/it, loss=0.11, v_num=e8ca]  Adjusting learning rate of group 0 to 1.0000e-04.\n",
      "Epoch 8:  80%|███████▉  | 348/436 [12:20<03:07,  2.13s/it, loss=0.0101, v_num=e8ca]Adjusting learning rate of group 0 to 1.0000e-04.\n",
      "Epoch 8:  81%|████████▏ | 355/436 [13:19<03:02,  2.25s/it, loss=0.0448, v_num=e8ca]"
     ]
    }
   ],
   "source": [
    "trainer.fit(model, dm)\n"
   ]
  },
  {
   "cell_type": "code",
   "execution_count": null,
   "metadata": {},
   "outputs": [],
   "source": [
    "wandb.finish()"
   ]
  }
 ],
 "metadata": {
  "kernelspec": {
   "display_name": "deeplearning",
   "language": "python",
   "name": "python3"
  },
  "language_info": {
   "codemirror_mode": {
    "name": "ipython",
    "version": 3
   },
   "file_extension": ".py",
   "mimetype": "text/x-python",
   "name": "python",
   "nbconvert_exporter": "python",
   "pygments_lexer": "ipython3",
   "version": "3.10.9"
  },
  "orig_nbformat": 4,
  "vscode": {
   "interpreter": {
    "hash": "bb42bcb20ac64e0ae944bb28c0494008526dcfc2a3da5fceda40500ba46e5a9a"
   }
  }
 },
 "nbformat": 4,
 "nbformat_minor": 2
}
