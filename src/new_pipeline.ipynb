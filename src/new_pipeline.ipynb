{
 "cells": [
  {
   "cell_type": "code",
   "execution_count": 1,
   "metadata": {},
   "outputs": [
    {
     "name": "stderr",
     "output_type": "stream",
     "text": [
      "c:\\Users\\polgracia\\Anaconda3\\envs\\deeplearning\\lib\\site-packages\\tqdm\\auto.py:22: TqdmWarning: IProgress not found. Please update jupyter and ipywidgets. See https://ipywidgets.readthedocs.io/en/stable/user_install.html\n",
      "  from .autonotebook import tqdm as notebook_tqdm\n"
     ]
    }
   ],
   "source": [
    "from sklearn import preprocessing\n",
    "import os\n",
    "import librosa\n",
    "from data_models.dataset2 import BirdDataset"
   ]
  },
  {
   "cell_type": "code",
   "execution_count": 2,
   "metadata": {},
   "outputs": [],
   "source": [
    "dataset = BirdDataset(data_path='../data/')"
   ]
  },
  {
   "cell_type": "code",
   "execution_count": 3,
   "metadata": {},
   "outputs": [
    {
     "data": {
      "text/plain": [
       "{'species': 'Acrocephalus arundinaceus',\n",
       " 'species_encoded': 0,\n",
       " 'audio': array([-0.00089947,  0.00055767,  0.00035131, ..., -0.04478979,\n",
       "        -0.02584531,  0.00267774], dtype=float32),\n",
       " 'spectrogram': array([[-15.061161, -16.400705, -20.7006  , ..., -23.372297, -23.444263,\n",
       "         -15.061161],\n",
       "        [-17.214073, -17.748749, -21.192902, ..., -21.753685, -22.591593,\n",
       "         -17.214073],\n",
       "        [-30.129364, -22.24649 , -22.994774, ..., -21.044544, -22.378132,\n",
       "         -30.129364],\n",
       "        ...,\n",
       "        [-58.11909 , -49.542355, -49.914993, ..., -48.125767, -42.745728,\n",
       "         -58.11909 ],\n",
       "        [-50.303753, -50.67199 , -54.173656, ..., -50.382275, -42.65883 ,\n",
       "         -50.303753],\n",
       "        [-49.10507 , -52.72721 , -59.92421 , ..., -51.071125, -42.726166,\n",
       "         -49.10507 ]], dtype=float32)}"
      ]
     },
     "execution_count": 3,
     "metadata": {},
     "output_type": "execute_result"
    }
   ],
   "source": [
    "dataset[0]"
   ]
  },
  {
   "cell_type": "code",
   "execution_count": null,
   "metadata": {},
   "outputs": [],
   "source": []
  }
 ],
 "metadata": {
  "kernelspec": {
   "display_name": "deeplearning",
   "language": "python",
   "name": "python3"
  },
  "language_info": {
   "codemirror_mode": {
    "name": "ipython",
    "version": 3
   },
   "file_extension": ".py",
   "mimetype": "text/x-python",
   "name": "python",
   "nbconvert_exporter": "python",
   "pygments_lexer": "ipython3",
   "version": "3.10.9"
  },
  "orig_nbformat": 4,
  "vscode": {
   "interpreter": {
    "hash": "bb42bcb20ac64e0ae944bb28c0494008526dcfc2a3da5fceda40500ba46e5a9a"
   }
  }
 },
 "nbformat": 4,
 "nbformat_minor": 2
}
